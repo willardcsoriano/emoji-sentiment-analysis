{
 "cells": [
  {
   "cell_type": "markdown",
   "id": "4ddd3f67",
   "metadata": {},
   "source": [
    "# 1.0 Data Ingestion and Initial Exploration \n",
    "\n",
    "## 📑 Notebook Overview\n",
    "\n",
    "This notebook performs an **initial exploration of raw emoji sentiment datasets** to guide data cleaning and preprocessing.  \n",
    "\n",
    "**Objectives:**\n",
    "- Ingest and inspect raw data files.  \n",
    "- Identify structural issues (column naming, duplicates, emoji handling).  \n",
    "- Document findings to inform a data processing script (`dataset.py`).  \n"
   ]
  },
  {
   "cell_type": "markdown",
   "id": "e08c7017",
   "metadata": {},
   "source": [
    "### Section 1: Setup and Imports\n",
    "This notebook is the first investigative pass at the raw data files\n",
    "to understand their structure and identify any initial issues.\n"
   ]
  },
  {
   "cell_type": "code",
   "execution_count": null,
   "id": "eb1b1b3c",
   "metadata": {},
   "outputs": [],
   "source": [
    "# Code for Setup and Imports\n",
    "\n",
    "import sys\n",
    "from pathlib import Path\n",
    "import pandas as pd\n",
    "from loguru import logger\n",
    "\n",
    "# Find the project's root by searching for a known file (like config.py)\n",
    "current_path = Path().resolve()\n",
    "project_root = None\n",
    "for parent in current_path.parents:\n",
    "    if (parent / 'emoji_sentiment_analysis' / 'config.py').exists():\n",
    "        project_root = parent\n",
    "        break\n",
    "        \n",
    "if project_root is None:\n",
    "    raise FileNotFoundError(\"Could not find the project root. Make sure you are inside the repository.\")\n",
    "\n",
    "# Add the project's root directory to the Python path\n",
    "if str(project_root) not in sys.path:\n",
    "    sys.path.insert(0, str(project_root))\n",
    "\n",
    "# Now, import the config module from the project root\n",
    "sys.path.append(str(project_root / 'emoji_sentiment_analysis'))\n",
    "import config\n",
    "\n",
    "# Access variables via the imported module\n",
    "RAW_DATA_DIR = config.RAW_DATA_DIR\n",
    "TEXT_COL = config.TEXT_COL\n",
    "TARGET_COL = config.TARGET_COL\n",
    "\n"
   ]
  },
  {
   "cell_type": "markdown",
   "id": "71d6b3a1",
   "metadata": {},
   "source": [
    "### Section 2: A Reusable Function for Data Inspection\n",
    "Let's create a function to avoid repeating the same code for each dataset.\n",
    "\n"
   ]
  },
  {
   "cell_type": "code",
   "execution_count": null,
   "id": "b1a4b948",
   "metadata": {},
   "outputs": [],
   "source": [
    "# Code for the Function\n",
    "\n",
    "def inspect_dataset(file_path: Path):\n",
    "    \"\"\"\n",
    "    Loads a CSV file and prints its head and info.\n",
    "    \"\"\"\n",
    "    logger.info(f\"Loading and inspecting {file_path.name}...\")\n",
    "    try:\n",
    "        df = pd.read_csv(file_path)\n",
    "        \n",
    "        # Display the first few rows to see the content and column names\n",
    "        print(f\"\\n--- First 5 rows of {file_path.name} ---\")\n",
    "        print(df.head())\n",
    "        \n",
    "        # Display information about the DataFrame (columns, non-null counts, data types)\n",
    "        print(f\"\\n--- DataFrame Info for {file_path.name} ---\")\n",
    "        df.info()\n",
    "        \n",
    "        return df\n",
    "    \n",
    "    except FileNotFoundError:\n",
    "        logger.error(f\"File not found: {file_path}\")\n",
    "        return None\n",
    "    except Exception as e:\n",
    "        logger.error(f\"An error occurred while loading {file_path.name}: {e}\")\n",
    "        return None\n",
    "\n"
   ]
  },
  {
   "cell_type": "markdown",
   "id": "ae508c1a",
   "metadata": {},
   "source": [
    "### Section 3: Load and Inspect All Raw Datasets\n",
    "Now, let's use the function to load and inspect both datasets.\n",
    "\n"
   ]
  },
  {
   "cell_type": "code",
   "execution_count": null,
   "id": "9be9e112",
   "metadata": {},
   "outputs": [
    {
     "name": "stderr",
     "output_type": "stream",
     "text": [
      "\u001b[32m2025-09-22 15:25:07.770\u001b[0m | \u001b[1mINFO    \u001b[0m | \u001b[36m__main__\u001b[0m:\u001b[36minspect_dataset\u001b[0m:\u001b[36m6\u001b[0m - \u001b[1mLoading and inspecting 1k_data_emoji_tweets_senti_posneg.csv...\u001b[0m\n"
     ]
    },
    {
     "name": "stdout",
     "output_type": "stream",
     "text": [
      "\n",
      "--- First 5 rows of 1k_data_emoji_tweets_senti_posneg.csv ---\n",
      "   Unnamed: 0  sentiment                                               post\n",
      "0           0          1                             Good morning every one\n",
      "1           1          0  TW: S AssaultActually horrified how many frien...\n",
      "2           2          1  Thanks by has notice of me Greetings : Jossett...\n",
      "3           3          0                      its ending soon aah unhappy 😧\n",
      "4           4          1                               My real time happy 😊\n",
      "\n",
      "--- DataFrame Info for 1k_data_emoji_tweets_senti_posneg.csv ---\n",
      "<class 'pandas.core.frame.DataFrame'>\n",
      "RangeIndex: 1000 entries, 0 to 999\n",
      "Data columns (total 3 columns):\n",
      " #   Column      Non-Null Count  Dtype \n",
      "---  ------      --------------  ----- \n",
      " 0   Unnamed: 0  1000 non-null   int64 \n",
      " 1   sentiment   1000 non-null   int64 \n",
      " 2   post        1000 non-null   object\n",
      "dtypes: int64(2), object(1)\n",
      "memory usage: 23.6+ KB\n"
     ]
    }
   ],
   "source": [
    "# Code to Inspect the First Dataset\n",
    "\n",
    "df1 = inspect_dataset(RAW_DATA_DIR / \"1k_data_emoji_tweets_senti_posneg.csv\")\n",
    "\n"
   ]
  },
  {
   "cell_type": "code",
   "execution_count": null,
   "id": "bcb43c65",
   "metadata": {},
   "outputs": [
    {
     "name": "stderr",
     "output_type": "stream",
     "text": [
      "\u001b[32m2025-09-22 15:25:08.133\u001b[0m | \u001b[1mINFO    \u001b[0m | \u001b[36m__main__\u001b[0m:\u001b[36minspect_dataset\u001b[0m:\u001b[36m6\u001b[0m - \u001b[1mLoading and inspecting 15_emoticon_data.csv...\u001b[0m\n"
     ]
    },
    {
     "name": "stdout",
     "output_type": "stream",
     "text": [
      "--------------------------------------------------\n",
      "\n",
      "--- First 5 rows of 15_emoticon_data.csv ---\n",
      "   Unnamed: 0 Emoji Unicode codepoint                         Unicode name\n",
      "0           0     😍           0x1f60d  SMILING FACE WITH HEART-SHAPED EYES\n",
      "1           1     😭           0x1f62d                   LOUDLY CRYING FACE\n",
      "2           2     😘           0x1f618                 FACE THROWING A KISS\n",
      "3           3     😊           0x1f60a       SMILING FACE WITH SMILING EYES\n",
      "4           4     😁           0x1f601      GRINNING FACE WITH SMILING EYES\n",
      "\n",
      "--- DataFrame Info for 15_emoticon_data.csv ---\n",
      "<class 'pandas.core.frame.DataFrame'>\n",
      "RangeIndex: 16 entries, 0 to 15\n",
      "Data columns (total 4 columns):\n",
      " #   Column             Non-Null Count  Dtype \n",
      "---  ------             --------------  ----- \n",
      " 0   Unnamed: 0         16 non-null     int64 \n",
      " 1   Emoji              16 non-null     object\n",
      " 2   Unicode codepoint  16 non-null     object\n",
      " 3   Unicode name       16 non-null     object\n",
      "dtypes: int64(1), object(3)\n",
      "memory usage: 640.0+ bytes\n"
     ]
    }
   ],
   "source": [
    "# Code to Inspect the Second Dataset\n",
    "\n",
    "print(\"-\" * 50)\n",
    "df2 = inspect_dataset(RAW_DATA_DIR / \"15_emoticon_data.csv\")\n",
    "\n"
   ]
  },
  {
   "cell_type": "markdown",
   "id": "b752fa3c",
   "metadata": {},
   "source": [
    "### 📊 Key Findings and Next Steps\n",
    "\n",
    "**Dataset 1: `1k_data_emoji_tweets_senti_posneg.csv`**\n",
    "- Contains a redundant `Unnamed: 0` column.\n",
    "- Columns `post` and `sentiment` need renaming to standardized `text` and `label`.\n",
    "- Contains emojis that require preprocessing.\n",
    "\n",
    "**Dataset 2: `15_emoticon_data.csv`**\n",
    "- Also has an `Unnamed: 0` column.\n",
    "- Functions as a lookup table for emoji transformations, not for direct modeling.\n",
    "\n",
    "**Next Steps:**\n",
    "1. Build `dataset.py` to handle cleaning, column renaming, and emoji replacement.  \n",
    "2. Save the processed dataset to `data/processed/`.  \n"
   ]
  }
 ],
 "metadata": {
  "kernelspec": {
   "display_name": "emoji-sentiment-analysis",
   "language": "python",
   "name": "python3"
  },
  "language_info": {
   "codemirror_mode": {
    "name": "ipython",
    "version": 3
   },
   "file_extension": ".py",
   "mimetype": "text/x-python",
   "name": "python",
   "nbconvert_exporter": "python",
   "pygments_lexer": "ipython3",
   "version": "3.10.18"
  }
 },
 "nbformat": 4,
 "nbformat_minor": 5
}
