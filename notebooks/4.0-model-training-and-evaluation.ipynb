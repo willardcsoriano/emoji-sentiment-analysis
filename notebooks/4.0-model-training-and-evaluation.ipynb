{
 "cells": [
  {
   "cell_type": "markdown",
   "id": "91dd6ed6",
   "metadata": {},
   "source": [
    "# 4.0 Model Training and Evaluation\n",
    "\n",
    "## 📑 Notebook Overview\n",
    "\n",
    "This notebook implements the **model training and evaluation stage** of the pipeline.  \n",
    "Its primary goal is to select the best-performing model for sentiment analysis and prepare it for deployment.\n",
    "\n",
    "**Workflow Overview:**\n",
    "1. Load prepared, vectorized datasets from the `3.0-data-preparation` stage.  \n",
    "2. Train and compare baseline models on the validation set.  \n",
    "3. Select the best model and evaluate on the held-out test set.  \n",
    "4. Save the final model and vectorizer for reproducible inference.\n"
   ]
  },
  {
   "cell_type": "markdown",
   "id": "9def0c02",
   "metadata": {},
   "source": [
    "## 1 — Load Prepared Data and Libraries\n",
    "\n",
    "Load all dependencies and import the preprocessed data artifacts (`prepared_data.pkl`).  \n",
    "This file contains:\n",
    "- Train, validation, and test splits (already vectorized).  \n",
    "- Target labels (`y_train`, `y_val`, `y_test`).  \n",
    "- The fitted TF-IDF vectorizer (ensures consistent transformations for new data).\n"
   ]
  },
  {
   "cell_type": "code",
   "execution_count": null,
   "id": "48575649",
   "metadata": {},
   "outputs": [
    {
     "name": "stdout",
     "output_type": "stream",
     "text": [
      "Prepared data loaded successfully!\n"
     ]
    }
   ],
   "source": [
    "import joblib\n",
    "from sklearn.linear_model import LogisticRegression\n",
    "from sklearn.naive_bayes import MultinomialNB\n",
    "from sklearn.svm import LinearSVC\n",
    "from sklearn.metrics import accuracy_score, classification_report, confusion_matrix\n",
    "\n",
    "# Define the correct file path for the prepared data\n",
    "# The '../' moves up one directory from the 'notebooks' folder\n",
    "file_path = '../models/prepared_data.pkl'\n",
    "\n",
    "# Load the prepared data from the .pkl file\n",
    "prepared_data = joblib.load(file_path)\n",
    "\n",
    "# Unpack the data into their respective variables\n",
    "X_train_vec = prepared_data['X_train_vec']\n",
    "X_val_vec = prepared_data['X_val_vec']\n",
    "X_test_vec = prepared_data['X_test_vec']\n",
    "y_train = prepared_data['y_train']\n",
    "y_val = prepared_data['y_val']\n",
    "y_test = prepared_data['y_test']\n",
    "vectorizer = prepared_data['vectorizer']\n",
    "\n",
    "print(\"Prepared data loaded successfully!\")"
   ]
  },
  {
   "cell_type": "markdown",
   "id": "0dc5aac1",
   "metadata": {},
   "source": [
    "## 2 — Model Experimentation (Validation Set)\n",
    "\n",
    "**Goal:** compare baseline models using the validation set.  \n",
    "**Models tested:**\n",
    "- Logistic Regression  \n",
    "- Multinomial Naive Bayes  \n",
    "- Linear Support Vector Machine (SVM)\n",
    "\n",
    "Each model is trained on the training set, evaluated on the validation set, and compared using:  \n",
    "- Accuracy  \n",
    "- Classification Report (Precision, Recall, F1)  \n",
    "\n",
    "This stage identifies the best candidate before touching the test set.\n"
   ]
  },
  {
   "cell_type": "code",
   "execution_count": 4,
   "id": "755f80ff",
   "metadata": {},
   "outputs": [
    {
     "name": "stdout",
     "output_type": "stream",
     "text": [
      "\n",
      "--- Model Experimentation and Evaluation ---\n",
      "\n",
      "Training and evaluating: Logistic Regression\n",
      "Accuracy: 0.7667\n",
      "Classification Report:\n",
      "               precision    recall  f1-score   support\n",
      "\n",
      "           0       0.78      0.75      0.76        75\n",
      "           1       0.76      0.79      0.77        75\n",
      "\n",
      "    accuracy                           0.77       150\n",
      "   macro avg       0.77      0.77      0.77       150\n",
      "weighted avg       0.77      0.77      0.77       150\n",
      "\n",
      "\n",
      "Training and evaluating: Multinomial Naive Bayes\n",
      "Accuracy: 0.8067\n",
      "Classification Report:\n",
      "               precision    recall  f1-score   support\n",
      "\n",
      "           0       0.78      0.85      0.82        75\n",
      "           1       0.84      0.76      0.80        75\n",
      "\n",
      "    accuracy                           0.81       150\n",
      "   macro avg       0.81      0.81      0.81       150\n",
      "weighted avg       0.81      0.81      0.81       150\n",
      "\n",
      "\n",
      "Training and evaluating: Linear SVM\n",
      "Accuracy: 0.7867\n",
      "Classification Report:\n",
      "               precision    recall  f1-score   support\n",
      "\n",
      "           0       0.78      0.80      0.79        75\n",
      "           1       0.79      0.77      0.78        75\n",
      "\n",
      "    accuracy                           0.79       150\n",
      "   macro avg       0.79      0.79      0.79       150\n",
      "weighted avg       0.79      0.79      0.79       150\n",
      "\n"
     ]
    }
   ],
   "source": [
    "print(\"\\n--- Model Experimentation and Evaluation ---\")\n",
    "\n",
    "# Define a dictionary of models to experiment with\n",
    "models = {\n",
    "    'Logistic Regression': LogisticRegression(random_state=42),\n",
    "    'Multinomial Naive Bayes': MultinomialNB(),\n",
    "    'Linear SVM': LinearSVC(random_state=42)\n",
    "}\n",
    "\n",
    "# Loop through each model, train it, and evaluate its performance\n",
    "for model_name, model in models.items():\n",
    "    print(f\"\\nTraining and evaluating: {model_name}\")\n",
    "\n",
    "    # Train the model\n",
    "    model.fit(X_train_vec, y_train)\n",
    "\n",
    "    # Make predictions on the validation set\n",
    "    y_val_pred = model.predict(X_val_vec)\n",
    "\n",
    "    # Evaluate the model\n",
    "    accuracy = accuracy_score(y_val, y_val_pred)\n",
    "    print(f\"Accuracy: {accuracy:.4f}\")\n",
    "    print(\"Classification Report:\\n\", classification_report(y_val, y_val_pred))"
   ]
  },
  {
   "cell_type": "markdown",
   "id": "ecc9377e",
   "metadata": {},
   "source": [
    "## 3 — Final Evaluation (Test Set)\n",
    "\n",
    "After reviewing validation results, the best-performing model is retrained on the **training set** and evaluated once on the **held-out test set**.\n",
    "\n",
    "**Purpose:**\n",
    "- Provides an unbiased estimate of real-world performance.  \n",
    "- Ensures that model selection was not overly influenced by validation data.  \n",
    "\n",
    "**Outputs:**\n",
    "- Test set accuracy  \n",
    "- Classification report  \n",
    "- Confusion matrix\n"
   ]
  },
  {
   "cell_type": "code",
   "execution_count": 5,
   "id": "cae6a6ee",
   "metadata": {},
   "outputs": [
    {
     "name": "stdout",
     "output_type": "stream",
     "text": [
      "\n",
      "--- Final Evaluation on the Test Set ---\n",
      "Test Set Accuracy: 0.78\n",
      "\n",
      "Test Set Classification Report:\n",
      "               precision    recall  f1-score   support\n",
      "\n",
      "           0       0.73      0.88      0.80        75\n",
      "           1       0.85      0.68      0.76        75\n",
      "\n",
      "    accuracy                           0.78       150\n",
      "   macro avg       0.79      0.78      0.78       150\n",
      "weighted avg       0.79      0.78      0.78       150\n",
      "\n",
      "\n",
      "Test Set Confusion Matrix:\n",
      " [[66  9]\n",
      " [24 51]]\n"
     ]
    }
   ],
   "source": [
    "from sklearn.naive_bayes import MultinomialNB\n",
    "from sklearn.metrics import accuracy_score, classification_report, confusion_matrix\n",
    "\n",
    "print(\"\\n--- Final Evaluation on the Test Set ---\")\n",
    "\n",
    "# Re-initialize the best model (Multinomial Naive Bayes)\n",
    "best_model = MultinomialNB()\n",
    "best_model.fit(X_train_vec, y_train)\n",
    "\n",
    "# Make predictions on the unseen test set\n",
    "y_test_pred = best_model.predict(X_test_vec)\n",
    "\n",
    "# Evaluate the model's performance on the test set\n",
    "test_accuracy = accuracy_score(y_test, y_test_pred)\n",
    "print(\"Test Set Accuracy:\", test_accuracy)\n",
    "print(\"\\nTest Set Classification Report:\\n\", classification_report(y_test, y_test_pred))\n",
    "print(\"\\nTest Set Confusion Matrix:\\n\", confusion_matrix(y_test, y_test_pred))"
   ]
  },
  {
   "cell_type": "markdown",
   "id": "768697dd",
   "metadata": {},
   "source": [
    "## 4 — Model Persistence\n",
    "\n",
    "The final model and TF-IDF vectorizer are saved as `.pkl` files in the `models/` directory.\n",
    "\n",
    "**Why:**  \n",
    "- Enables reproducible predictions without retraining.  \n",
    "- Critical step for deployment and integration into production pipelines.\n"
   ]
  },
  {
   "cell_type": "code",
   "execution_count": 6,
   "id": "ea0f2702",
   "metadata": {},
   "outputs": [
    {
     "name": "stdout",
     "output_type": "stream",
     "text": [
      "\n",
      "Selected model saved to ../models/sentiment_model.pkl\n"
     ]
    }
   ],
   "source": [
    "import joblib\n",
    "\n",
    "# Define file paths to save the model and vectorizer\n",
    "model_file_path = '../models/sentiment_model.pkl'\n",
    "\n",
    "# Save the best trained model to a file\n",
    "joblib.dump(best_model, model_file_path)\n",
    "print(f\"\\nSelected model saved to {model_file_path}\")"
   ]
  },
  {
   "cell_type": "markdown",
   "id": "4e4394ff",
   "metadata": {},
   "source": [
    "## 📊 Summary & Next Steps\n",
    "\n",
    "**Findings (example based on validation results):**\n",
    "- Multinomial Naive Bayes outperformed Logistic Regression and Linear SVM on this dataset.  \n",
    "- Test set results confirm that performance generalizes well to unseen data.  \n",
    "\n",
    "**Next Steps:**\n",
    "1. Extend experiments with hyperparameter tuning (GridSearchCV, RandomizedSearchCV).  \n",
    "2. Explore richer text features (n-grams, embeddings, engineered features).  \n",
    "3. Wrap the final model in a simple prediction service (e.g., FastAPI or Flask).  \n",
    "4. Monitor model performance on new, real-world data.\n"
   ]
  }
 ],
 "metadata": {
  "kernelspec": {
   "display_name": "emoji-sentiment-analysis",
   "language": "python",
   "name": "python3"
  },
  "language_info": {
   "codemirror_mode": {
    "name": "ipython",
    "version": 3
   },
   "file_extension": ".py",
   "mimetype": "text/x-python",
   "name": "python",
   "nbconvert_exporter": "python",
   "pygments_lexer": "ipython3",
   "version": "3.10.18"
  }
 },
 "nbformat": 4,
 "nbformat_minor": 5
}
