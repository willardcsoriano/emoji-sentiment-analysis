{
 "cells": [
  {
   "cell_type": "markdown",
   "id": "91dd6ed6",
   "metadata": {},
   "source": [
    "### Summary of Notebook 4.0: Model Training and Evaluation\n",
    "\n",
    "This notebook serves as the **model training and evaluation stage** of the machine learning project pipeline. Its primary objective is to select the best-performing model for sentiment analysis and prepare it for deployment.\n",
    "\n",
    "The notebook's workflow consists of the following key steps:\n",
    "\n",
    "#### Data Loading\n",
    "The notebook begins by efficiently loading the **prepared and vectorized data** from a `.pkl` file. This data, which includes training, validation, and test sets, was generated in the previous `3.0-data-preparation` notebook. This approach ensures reproducibility and avoids the need to re-run the entire data preparation pipeline.\n",
    "\n",
    "#### Model Experimentation and Selection\n",
    "A **comparative analysis** of three different machine learning algorithms is performed on the validation set:\n",
    "* Logistic Regression\n",
    "* Multinomial Naive Bayes\n",
    "* Linear Support Vector Machine (SVM)\n",
    "\n",
    "This process, facilitated by the shared API of Scikit-learn's models, allows for the rapid identification of the best-performing algorithm. Based on the validation results, the **Multinomial Naive Bayes** model was selected for its superior performance.\n",
    "\n",
    "#### Final Evaluation\n",
    "The selected model is then evaluated on a completely **unseen test set**. This single, final run provides an unbiased and reliable measure of the model's true real-world performance. This step is crucial for validating the model's generalizability and ensuring that its performance is not a result of overfitting to the validation data.\n",
    "\n",
    "#### Model Persistence\n",
    "The final, best-performing model and the TF-IDF vectorizer are saved to the project's `models` directory as `.pkl` files. This allows the trained model to be loaded and used for new predictions without the need for time-consuming retraining, a practice essential for model deployment."
   ]
  },
  {
   "cell_type": "markdown",
   "id": "9def0c02",
   "metadata": {},
   "source": [
    "#### Section 1: Load Prepared Data and Libraries\n",
    "\n",
    "This first cell loads all the necessary libraries and the prepared data from the .pkl file created in the previous notebook."
   ]
  },
  {
   "cell_type": "code",
   "execution_count": null,
   "id": "48575649",
   "metadata": {},
   "outputs": [
    {
     "name": "stdout",
     "output_type": "stream",
     "text": [
      "Prepared data loaded successfully!\n"
     ]
    }
   ],
   "source": [
    "import joblib\n",
    "from sklearn.linear_model import LogisticRegression\n",
    "from sklearn.naive_bayes import MultinomialNB\n",
    "from sklearn.svm import LinearSVC\n",
    "from sklearn.metrics import accuracy_score, classification_report, confusion_matrix\n",
    "\n",
    "# Define the correct file path for the prepared data\n",
    "# The '../' moves up one directory from the 'notebooks' folder\n",
    "file_path = '../models/prepared_data.pkl'\n",
    "\n",
    "# Load the prepared data from the .pkl file\n",
    "prepared_data = joblib.load(file_path)\n",
    "\n",
    "# Unpack the data into their respective variables\n",
    "X_train_vec = prepared_data['X_train_vec']\n",
    "X_val_vec = prepared_data['X_val_vec']\n",
    "X_test_vec = prepared_data['X_test_vec']\n",
    "y_train = prepared_data['y_train']\n",
    "y_val = prepared_data['y_val']\n",
    "y_test = prepared_data['y_test']\n",
    "vectorizer = prepared_data['vectorizer']\n",
    "\n",
    "print(\"Prepared data loaded successfully!\")"
   ]
  },
  {
   "cell_type": "markdown",
   "id": "0dc5aac1",
   "metadata": {},
   "source": [
    "#### Section 2: Model Experimentation and Evaluation\n",
    "\n",
    "This section defines a dictionary of models to test and then uses a loop to train and evaluate each one on the validation set."
   ]
  },
  {
   "cell_type": "code",
   "execution_count": 4,
   "id": "755f80ff",
   "metadata": {},
   "outputs": [
    {
     "name": "stdout",
     "output_type": "stream",
     "text": [
      "\n",
      "--- Model Experimentation and Evaluation ---\n",
      "\n",
      "Training and evaluating: Logistic Regression\n",
      "Accuracy: 0.7667\n",
      "Classification Report:\n",
      "               precision    recall  f1-score   support\n",
      "\n",
      "           0       0.78      0.75      0.76        75\n",
      "           1       0.76      0.79      0.77        75\n",
      "\n",
      "    accuracy                           0.77       150\n",
      "   macro avg       0.77      0.77      0.77       150\n",
      "weighted avg       0.77      0.77      0.77       150\n",
      "\n",
      "\n",
      "Training and evaluating: Multinomial Naive Bayes\n",
      "Accuracy: 0.8067\n",
      "Classification Report:\n",
      "               precision    recall  f1-score   support\n",
      "\n",
      "           0       0.78      0.85      0.82        75\n",
      "           1       0.84      0.76      0.80        75\n",
      "\n",
      "    accuracy                           0.81       150\n",
      "   macro avg       0.81      0.81      0.81       150\n",
      "weighted avg       0.81      0.81      0.81       150\n",
      "\n",
      "\n",
      "Training and evaluating: Linear SVM\n",
      "Accuracy: 0.7867\n",
      "Classification Report:\n",
      "               precision    recall  f1-score   support\n",
      "\n",
      "           0       0.78      0.80      0.79        75\n",
      "           1       0.79      0.77      0.78        75\n",
      "\n",
      "    accuracy                           0.79       150\n",
      "   macro avg       0.79      0.79      0.79       150\n",
      "weighted avg       0.79      0.79      0.79       150\n",
      "\n"
     ]
    }
   ],
   "source": [
    "print(\"\\n--- Model Experimentation and Evaluation ---\")\n",
    "\n",
    "# Define a dictionary of models to experiment with\n",
    "models = {\n",
    "    'Logistic Regression': LogisticRegression(random_state=42),\n",
    "    'Multinomial Naive Bayes': MultinomialNB(),\n",
    "    'Linear SVM': LinearSVC(random_state=42)\n",
    "}\n",
    "\n",
    "# Loop through each model, train it, and evaluate its performance\n",
    "for model_name, model in models.items():\n",
    "    print(f\"\\nTraining and evaluating: {model_name}\")\n",
    "\n",
    "    # Train the model\n",
    "    model.fit(X_train_vec, y_train)\n",
    "\n",
    "    # Make predictions on the validation set\n",
    "    y_val_pred = model.predict(X_val_vec)\n",
    "\n",
    "    # Evaluate the model\n",
    "    accuracy = accuracy_score(y_val, y_val_pred)\n",
    "    print(f\"Accuracy: {accuracy:.4f}\")\n",
    "    print(\"Classification Report:\\n\", classification_report(y_val, y_val_pred))"
   ]
  },
  {
   "cell_type": "markdown",
   "id": "ecc9377e",
   "metadata": {},
   "source": [
    "#### Section 3: Final Evaluation on the Test Set\n",
    "\n",
    "After reviewing the results from the previous cell, we identified Multinomial Naive Bayes as the best-performing model. This cell performs the final, single evaluation on the unseen test set to get an unbiased performance score."
   ]
  },
  {
   "cell_type": "code",
   "execution_count": 5,
   "id": "cae6a6ee",
   "metadata": {},
   "outputs": [
    {
     "name": "stdout",
     "output_type": "stream",
     "text": [
      "\n",
      "--- Final Evaluation on the Test Set ---\n",
      "Test Set Accuracy: 0.78\n",
      "\n",
      "Test Set Classification Report:\n",
      "               precision    recall  f1-score   support\n",
      "\n",
      "           0       0.73      0.88      0.80        75\n",
      "           1       0.85      0.68      0.76        75\n",
      "\n",
      "    accuracy                           0.78       150\n",
      "   macro avg       0.79      0.78      0.78       150\n",
      "weighted avg       0.79      0.78      0.78       150\n",
      "\n",
      "\n",
      "Test Set Confusion Matrix:\n",
      " [[66  9]\n",
      " [24 51]]\n"
     ]
    }
   ],
   "source": [
    "from sklearn.naive_bayes import MultinomialNB\n",
    "from sklearn.metrics import accuracy_score, classification_report, confusion_matrix\n",
    "\n",
    "print(\"\\n--- Final Evaluation on the Test Set ---\")\n",
    "\n",
    "# Re-initialize the best model (Multinomial Naive Bayes)\n",
    "best_model = MultinomialNB()\n",
    "best_model.fit(X_train_vec, y_train)\n",
    "\n",
    "# Make predictions on the unseen test set\n",
    "y_test_pred = best_model.predict(X_test_vec)\n",
    "\n",
    "# Evaluate the model's performance on the test set\n",
    "test_accuracy = accuracy_score(y_test, y_test_pred)\n",
    "print(\"Test Set Accuracy:\", test_accuracy)\n",
    "print(\"\\nTest Set Classification Report:\\n\", classification_report(y_test, y_test_pred))\n",
    "print(\"\\nTest Set Confusion Matrix:\\n\", confusion_matrix(y_test, y_test_pred))"
   ]
  },
  {
   "cell_type": "markdown",
   "id": "768697dd",
   "metadata": {},
   "source": [
    "#### Section 4: Save Final Model and Vectorizer\n",
    "\n",
    "This final cell saves the trained model to disk. Model persistence is a crucial step that enables the trained model to be used for making predictions on new data without requiring retraining."
   ]
  },
  {
   "cell_type": "code",
   "execution_count": 6,
   "id": "ea0f2702",
   "metadata": {},
   "outputs": [
    {
     "name": "stdout",
     "output_type": "stream",
     "text": [
      "\n",
      "Selected model saved to ../models/sentiment_model.pkl\n"
     ]
    }
   ],
   "source": [
    "import joblib\n",
    "\n",
    "# Define file paths to save the model and vectorizer\n",
    "model_file_path = '../models/sentiment_model.pkl'\n",
    "\n",
    "# Save the best trained model to a file\n",
    "joblib.dump(best_model, model_file_path)\n",
    "print(f\"\\nSelected model saved to {model_file_path}\")"
   ]
  }
 ],
 "metadata": {
  "kernelspec": {
   "display_name": "emoji-sentiment-analysis",
   "language": "python",
   "name": "python3"
  },
  "language_info": {
   "codemirror_mode": {
    "name": "ipython",
    "version": 3
   },
   "file_extension": ".py",
   "mimetype": "text/x-python",
   "name": "python",
   "nbconvert_exporter": "python",
   "pygments_lexer": "ipython3",
   "version": "3.10.18"
  }
 },
 "nbformat": 4,
 "nbformat_minor": 5
}
