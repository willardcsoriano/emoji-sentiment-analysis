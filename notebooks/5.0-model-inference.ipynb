{
 "cells": [
  {
   "cell_type": "markdown",
   "id": "a8f213d3",
   "metadata": {},
   "source": [
    "# 5.0 Model Inference  \n",
    "\n",
    "## 📑 Notebook Overview  \n",
    "This notebook demonstrates how to **use the trained sentiment analysis model** for predictions on new, unseen text data.  \n",
    "\n",
    "**Objectives:**  \n",
    "- Load the persisted sentiment model and TF-IDF vectorizer.  \n",
    "- Preprocess new input text for inference.  \n",
    "- Generate predictions and map them to human-readable sentiment labels.  \n"
   ]
  },
  {
   "cell_type": "markdown",
   "id": "5bc75492",
   "metadata": {},
   "source": [
    "## 1. Load Model & Vectorizer  \n",
    "\n",
    "Load the serialized artifacts from the `models/` directory:  \n",
    "- `sentiment_model.pkl` → the best trained model (Multinomial Naive Bayes).  \n",
    "- `prepared_data.pkl` → includes the fitted TF-IDF vectorizer.  \n",
    "\n",
    "This ensures consistency between training and inference.  \n"
   ]
  },
  {
   "cell_type": "code",
   "execution_count": null,
   "id": "6a1f64fd",
   "metadata": {},
   "outputs": [
    {
     "name": "stdout",
     "output_type": "stream",
     "text": [
      "Model loaded successfully!\n",
      "Vectorizer loaded successfully!\n"
     ]
    }
   ],
   "source": [
    "import joblib\n",
    "import pandas as pd\n",
    "from pathlib import Path\n",
    "\n",
    "# Define the file paths\n",
    "model_file_path = '../models/sentiment_model.pkl'\n",
    "prepared_data_path = '../models/prepared_data.pkl'\n",
    "\n",
    "# Load the trained model\n",
    "model = joblib.load(model_file_path)\n",
    "print(\"Model loaded successfully!\")\n",
    "\n",
    "# Load the vectorizer from the prepared data file\n",
    "prepared_data = joblib.load(prepared_data_path)\n",
    "vectorizer = prepared_data['vectorizer']\n",
    "print(\"Vectorizer loaded successfully!\")"
   ]
  },
  {
   "cell_type": "markdown",
   "id": "d4c6b06f",
   "metadata": {},
   "source": [
    "## 2. Run Inference on New Text  \n",
    "\n",
    "Steps for making a prediction:  \n",
    "1. Define the input text.  \n",
    "2. Transform it into numerical features using the **loaded vectorizer**.  \n",
    "3. Pass it to the **trained model** for prediction.  \n",
    "4. Map the numeric output (0 = Negative, 1 = Positive) to a **human-readable label**.  \n",
    "\n",
    "Example input:  \n",
    "> `\"I'm so happy right now! _EMOJI_\"`  \n",
    "\n",
    "Expected output:  \n",
    "> **Predicted Sentiment: Positive**  \n"
   ]
  },
  {
   "cell_type": "code",
   "execution_count": null,
   "id": "31096fd6",
   "metadata": {},
   "outputs": [
    {
     "name": "stdout",
     "output_type": "stream",
     "text": [
      "\n",
      "Original Text: 'I'm so happy right now! _EMOJI_'\n",
      "Predicted Sentiment: Positive\n"
     ]
    }
   ],
   "source": [
    "# Define a new text post to predict\n",
    "new_text = \"I'm so happy right now! _EMOJI_\"\n",
    "\n",
    "# Create a pandas Series from the new text\n",
    "new_text_series = pd.Series([new_text])\n",
    "\n",
    "# Transform the new text using the loaded vectorizer\n",
    "new_text_vec = vectorizer.transform(new_text_series)\n",
    "\n",
    "# Make a prediction using the loaded model\n",
    "prediction = model.predict(new_text_vec)\n",
    "\n",
    "# Map the prediction to a human-readable label\n",
    "# The labels are 0 for negative and 1 for positive\n",
    "sentiment_map = {0: \"Negative\", 1: \"Positive\"}\n",
    "predicted_sentiment = sentiment_map[prediction[0]]\n",
    "\n",
    "# Print the result\n",
    "print(f\"\\nOriginal Text: '{new_text}'\")\n",
    "print(f\"Predicted Sentiment: {predicted_sentiment}\")"
   ]
  },
  {
   "cell_type": "markdown",
   "id": "c3483a0e",
   "metadata": {},
   "source": [
    "## 📝 Next Steps  \n",
    "\n",
    "This notebook demonstrates a **single-text inference pipeline**.  \n",
    "Potential extensions include:  \n",
    "\n",
    "- **Batch Inference:** Run predictions on a CSV or DataFrame of new text posts.  \n",
    "- **REST API Deployment:** Serve the model using `FastAPI` or `Flask` for real-time predictions.  \n",
    "- **Interactive UI:** Build a simple interface with `Streamlit` or `Gradio` for end-user interaction.  \n",
    "- **Continuous Improvement:** Collect feedback on predictions and retrain the model periodically with new data.  \n"
   ]
  }
 ],
 "metadata": {
  "kernelspec": {
   "display_name": "emoji-sentiment-analysis",
   "language": "python",
   "name": "python3"
  },
  "language_info": {
   "codemirror_mode": {
    "name": "ipython",
    "version": 3
   },
   "file_extension": ".py",
   "mimetype": "text/x-python",
   "name": "python",
   "nbconvert_exporter": "python",
   "pygments_lexer": "ipython3",
   "version": "3.10.18"
  }
 },
 "nbformat": 4,
 "nbformat_minor": 5
}
