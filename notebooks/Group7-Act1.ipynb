{
 "cells": [
  {
   "cell_type": "code",
   "execution_count": null,
   "id": "589655d0",
   "metadata": {},
   "outputs": [
    {
     "name": "stdout",
     "output_type": "stream",
     "text": [
      "Project root added to path: C:\\Users\\Willard\\python-projects\\emoji_sentiment_analysis\n"
     ]
    }
   ],
   "source": [
    "import sys\n",
    "from pathlib import Path\n",
    "\n",
    "# The correct way to get the project root.\n",
    "project_root = Path().resolve().parent\n",
    "if str(project_root) not in sys.path:\n",
    "    sys.path.insert(0, str(project_root))\n",
    "\n",
    "print(f\"Project root added to path: {project_root}\")"
   ]
  },
  {
   "cell_type": "code",
   "execution_count": 2,
   "id": "b575c96e",
   "metadata": {},
   "outputs": [
    {
     "ename": "FileNotFoundError",
     "evalue": "[Errno 2] No such file or directory: 'C:\\\\Users\\\\Willard\\\\python-projects\\\\emoji_sentiment_analysis\\\\models\\\\sentiment_model.pkl'",
     "output_type": "error",
     "traceback": [
      "\u001b[1;31m---------------------------------------------------------------------------\u001b[0m",
      "\u001b[1;31mFileNotFoundError\u001b[0m                         Traceback (most recent call last)",
      "Cell \u001b[1;32mIn[2], line 26\u001b[0m\n\u001b[0;32m     23\u001b[0m     \u001b[38;5;28;01mreturn\u001b[39;00m \u001b[38;5;124m\"\u001b[39m\u001b[38;5;124m \u001b[39m\u001b[38;5;124m\"\u001b[39m\u001b[38;5;241m.\u001b[39mjoin(re\u001b[38;5;241m.\u001b[39mfindall(EMOJI_PATTERN, text))\n\u001b[0;32m     25\u001b[0m \u001b[38;5;66;03m# Load the trained model and vectorizer\u001b[39;00m\n\u001b[1;32m---> 26\u001b[0m model \u001b[38;5;241m=\u001b[39m \u001b[43mjoblib\u001b[49m\u001b[38;5;241;43m.\u001b[39;49m\u001b[43mload\u001b[49m\u001b[43m(\u001b[49m\u001b[43mMODELS_DIR\u001b[49m\u001b[43m \u001b[49m\u001b[38;5;241;43m/\u001b[39;49m\u001b[43m \u001b[49m\u001b[38;5;124;43m\"\u001b[39;49m\u001b[38;5;124;43msentiment_model.pkl\u001b[39;49m\u001b[38;5;124;43m\"\u001b[39;49m\u001b[43m)\u001b[49m\n\u001b[0;32m     27\u001b[0m vectorizer \u001b[38;5;241m=\u001b[39m joblib\u001b[38;5;241m.\u001b[39mload(MODELS_DIR \u001b[38;5;241m/\u001b[39m \u001b[38;5;124m\"\u001b[39m\u001b[38;5;124mtfidf_vectorizer.pkl\u001b[39m\u001b[38;5;124m\"\u001b[39m)\n\u001b[0;32m     29\u001b[0m \u001b[38;5;28mprint\u001b[39m(\u001b[38;5;124m\"\u001b[39m\u001b[38;5;124mSentiment analyzer loaded successfully! 🚀\u001b[39m\u001b[38;5;124m\"\u001b[39m)\n",
      "File \u001b[1;32mc:\\Users\\Willard\\AppData\\Local\\Altair\\MF\\envs\\emoji-sentiment-analysis\\lib\\site-packages\\joblib\\numpy_pickle.py:735\u001b[0m, in \u001b[0;36mload\u001b[1;34m(filename, mmap_mode, ensure_native_byte_order)\u001b[0m\n\u001b[0;32m    733\u001b[0m         obj \u001b[38;5;241m=\u001b[39m _unpickle(fobj, ensure_native_byte_order\u001b[38;5;241m=\u001b[39mensure_native_byte_order)\n\u001b[0;32m    734\u001b[0m \u001b[38;5;28;01melse\u001b[39;00m:\n\u001b[1;32m--> 735\u001b[0m     \u001b[38;5;28;01mwith\u001b[39;00m \u001b[38;5;28;43mopen\u001b[39;49m\u001b[43m(\u001b[49m\u001b[43mfilename\u001b[49m\u001b[43m,\u001b[49m\u001b[43m \u001b[49m\u001b[38;5;124;43m\"\u001b[39;49m\u001b[38;5;124;43mrb\u001b[39;49m\u001b[38;5;124;43m\"\u001b[39;49m\u001b[43m)\u001b[49m \u001b[38;5;28;01mas\u001b[39;00m f:\n\u001b[0;32m    736\u001b[0m         \u001b[38;5;28;01mwith\u001b[39;00m _validate_fileobject_and_memmap(f, filename, mmap_mode) \u001b[38;5;28;01mas\u001b[39;00m (\n\u001b[0;32m    737\u001b[0m             fobj,\n\u001b[0;32m    738\u001b[0m             validated_mmap_mode,\n\u001b[0;32m    739\u001b[0m         ):\n\u001b[0;32m    740\u001b[0m             \u001b[38;5;28;01mif\u001b[39;00m \u001b[38;5;28misinstance\u001b[39m(fobj, \u001b[38;5;28mstr\u001b[39m):\n\u001b[0;32m    741\u001b[0m                 \u001b[38;5;66;03m# if the returned file object is a string, this means we\u001b[39;00m\n\u001b[0;32m    742\u001b[0m                 \u001b[38;5;66;03m# try to load a pickle file generated with an version of\u001b[39;00m\n\u001b[0;32m    743\u001b[0m                 \u001b[38;5;66;03m# Joblib so we load it with joblib compatibility function.\u001b[39;00m\n",
      "\u001b[1;31mFileNotFoundError\u001b[0m: [Errno 2] No such file or directory: 'C:\\\\Users\\\\Willard\\\\python-projects\\\\emoji_sentiment_analysis\\\\models\\\\sentiment_model.pkl'"
     ]
    }
   ],
   "source": [
    "# block 1\n",
    "\n",
    "import pandas as pd\n",
    "import joblib\n",
    "import ipywidgets as widgets\n",
    "from IPython.display import display, clear_output\n",
    "import re\n",
    "from emoji_sentiment_analysis.config import MODELS_DIR\n",
    "\n",
    "# Regex to find emojis\n",
    "EMOJI_PATTERN = re.compile(\n",
    "    \"[\"\n",
    "    \"\\U0001F600-\\U0001F64F\"  # Emoticons\n",
    "    \"\\U0001F300-\\U0001F5FF\"  # Symbols & Pictographs\n",
    "    \"\\U0001F680-\\U0001F6FF\"  # Transport & Map Symbols\n",
    "    \"\\U0001F1E0-\\U0001F1FF\"  # Flags (iOS)\n",
    "    \"\\U00002702-\\U000027B0\"  # Dingbats\n",
    "    \"]+\",\n",
    "    flags=re.UNICODE\n",
    ")\n",
    "\n",
    "def extract_emojis(text):\n",
    "    return \" \".join(re.findall(EMOJI_PATTERN, text))\n",
    "\n",
    "# Load the trained model and vectorizer\n",
    "model = joblib.load(MODELS_DIR / \"sentiment_model.pkl\")\n",
    "vectorizer = joblib.load(MODELS_DIR / \"tfidf_vectorizer.pkl\")\n",
    "\n",
    "print(\"Sentiment analyzer loaded successfully! 🚀\")"
   ]
  },
  {
   "cell_type": "code",
   "execution_count": null,
   "id": "2f9f7b57",
   "metadata": {},
   "outputs": [
    {
     "data": {
      "application/vnd.jupyter.widget-view+json": {
       "model_id": "99260d2f1ced40c3bd72c59069bd7af5",
       "version_major": 2,
       "version_minor": 0
      },
      "text/plain": [
       "Textarea(value='', description='Enter a sentence:', placeholder='I love sentiment analysis but it is too hard …"
      ]
     },
     "metadata": {},
     "output_type": "display_data"
    },
    {
     "data": {
      "application/vnd.jupyter.widget-view+json": {
       "model_id": "0057556452844b4a8aa0ec84ff2eb495",
       "version_major": 2,
       "version_minor": 0
      },
      "text/plain": [
       "Button(button_style='success', description='Say your Sentiments!', style=ButtonStyle())"
      ]
     },
     "metadata": {},
     "output_type": "display_data"
    },
    {
     "data": {
      "application/vnd.jupyter.widget-view+json": {
       "model_id": "05d70a76bd6e441b82447e0cf0db9f4d",
       "version_major": 2,
       "version_minor": 0
      },
      "text/plain": [
       "Output()"
      ]
     },
     "metadata": {},
     "output_type": "display_data"
    }
   ],
   "source": [
    "# block 2\n",
    "\n",
    "# Create the text input and button widgets\n",
    "text_input = widgets.Textarea(\n",
    "    description='Enter a sentence:',\n",
    "    placeholder='I love sentiment analysis but it is too hard to study 😔'\n",
    ")\n",
    "sentiment_button = widgets.Button(\n",
    "    description='Say your Sentiments!',\n",
    "    button_style='success'\n",
    ")\n",
    "output_area = widgets.Output()\n",
    "\n",
    "# Display the widgets\n",
    "display(text_input, sentiment_button, \n",
    "output_area)"
   ]
  },
  {
   "cell_type": "code",
   "execution_count": null,
   "id": "83ea31c9",
   "metadata": {},
   "outputs": [],
   "source": [
    "# block 3\n",
    "\n",
    "def on_button_click(b):\n",
    "    with output_area:\n",
    "        clear_output()  # Clear previous output\n",
    "        user_input = text_input.value\n",
    "        \n",
    "        if not user_input:\n",
    "            print(\"Please enter a sentence to analyze.\")\n",
    "            return\n",
    "\n",
    "        print(\"==========================================================\")\n",
    "        print(f'Your input is: \"{user_input}\"')\n",
    "\n",
    "        # Preprocess the user input, including amplifying emojis\n",
    "        processed_input = user_input + ' ' + extract_emojis(user_input) * 5\n",
    "        \n",
    "        # Transform the text using the trained vectorizer\n",
    "        transformed_input = vectorizer.transform([processed_input])\n",
    "        \n",
    "        # Predict the sentiment\n",
    "        prediction = model.predict(transformed_input)[0]\n",
    "        \n",
    "        # Display the result\n",
    "        print(\"==========================================================\")\n",
    "        print(f'YOUR INPUT IS OF \"{prediction.upper()}\" SENTIMENT')\n",
    "        print(\"==========================================================\")\n",
    "\n",
    "# Link the button's on_click event to the analysis function\n",
    "sentiment_button.on_click(on_button_click)"
   ]
  }
 ],
 "metadata": {
  "kernelspec": {
   "display_name": "emoji-sentiment-analysis",
   "language": "python",
   "name": "python3"
  },
  "language_info": {
   "codemirror_mode": {
    "name": "ipython",
    "version": 3
   },
   "file_extension": ".py",
   "mimetype": "text/x-python",
   "name": "python",
   "nbconvert_exporter": "python",
   "pygments_lexer": "ipython3",
   "version": "3.10.18"
  }
 },
 "nbformat": 4,
 "nbformat_minor": 5
}
