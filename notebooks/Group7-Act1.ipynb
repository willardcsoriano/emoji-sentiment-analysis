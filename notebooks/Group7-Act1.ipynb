{
 "cells": [
  {
   "cell_type": "code",
   "execution_count": null,
   "id": "b575c96e",
   "metadata": {},
   "outputs": [
    {
     "ename": "ModuleNotFoundError",
     "evalue": "No module named 'dotenv'",
     "output_type": "error",
     "traceback": [
      "\u001b[31m---------------------------------------------------------------------------\u001b[39m",
      "\u001b[31mModuleNotFoundError\u001b[39m                       Traceback (most recent call last)",
      "\u001b[36mCell\u001b[39m\u001b[36m \u001b[39m\u001b[32mIn[4]\u001b[39m\u001b[32m, line 16\u001b[39m\n\u001b[32m     14\u001b[39m \u001b[38;5;28;01mfrom\u001b[39;00m\u001b[38;5;250m \u001b[39m\u001b[34;01mIPython\u001b[39;00m\u001b[34;01m.\u001b[39;00m\u001b[34;01mdisplay\u001b[39;00m\u001b[38;5;250m \u001b[39m\u001b[38;5;28;01mimport\u001b[39;00m display, clear_output\n\u001b[32m     15\u001b[39m \u001b[38;5;28;01mimport\u001b[39;00m\u001b[38;5;250m \u001b[39m\u001b[34;01mre\u001b[39;00m\n\u001b[32m---> \u001b[39m\u001b[32m16\u001b[39m \u001b[38;5;28;01mfrom\u001b[39;00m\u001b[38;5;250m \u001b[39m\u001b[34;01memoji_sentiment_analysis\u001b[39;00m\u001b[34;01m.\u001b[39;00m\u001b[34;01mconfig\u001b[39;00m\u001b[38;5;250m \u001b[39m\u001b[38;5;28;01mimport\u001b[39;00m MODELS_DIR\n\u001b[32m     18\u001b[39m \u001b[38;5;66;03m# Regex to find emojis\u001b[39;00m\n\u001b[32m     19\u001b[39m EMOJI_PATTERN = re.compile(\n\u001b[32m     20\u001b[39m     \u001b[33m\"\u001b[39m\u001b[33m[\u001b[39m\u001b[33m\"\u001b[39m\n\u001b[32m     21\u001b[39m     \u001b[33m\"\u001b[39m\u001b[38;5;130;01m\\U0001F600\u001b[39;00m\u001b[33m-\u001b[39m\u001b[38;5;130;01m\\U0001F64F\u001b[39;00m\u001b[33m\"\u001b[39m  \u001b[38;5;66;03m# Emoticons\u001b[39;00m\n\u001b[32m   (...)\u001b[39m\u001b[32m     27\u001b[39m     flags=re.UNICODE\n\u001b[32m     28\u001b[39m )\n",
      "\u001b[36mFile \u001b[39m\u001b[32m~\\python-projects\\emoji_sentiment_analysis\\emoji_sentiment_analysis\\__init__.py:1\u001b[39m\n\u001b[32m----> \u001b[39m\u001b[32m1\u001b[39m \u001b[38;5;28;01mfrom\u001b[39;00m\u001b[38;5;250m \u001b[39m\u001b[34;01memoji_sentiment_analysis\u001b[39;00m\u001b[38;5;250m \u001b[39m\u001b[38;5;28;01mimport\u001b[39;00m config  \u001b[38;5;66;03m# noqa: F401\u001b[39;00m\n",
      "\u001b[36mFile \u001b[39m\u001b[32m~\\python-projects\\emoji_sentiment_analysis\\emoji_sentiment_analysis\\config.py:18\u001b[39m\n\u001b[32m     15\u001b[39m \u001b[38;5;28;01mimport\u001b[39;00m\u001b[38;5;250m \u001b[39m\u001b[34;01mos\u001b[39;00m\n\u001b[32m     16\u001b[39m \u001b[38;5;28;01mimport\u001b[39;00m\u001b[38;5;250m \u001b[39m\u001b[34;01msys\u001b[39;00m\n\u001b[32m---> \u001b[39m\u001b[32m18\u001b[39m \u001b[38;5;28;01mfrom\u001b[39;00m\u001b[38;5;250m \u001b[39m\u001b[34;01mdotenv\u001b[39;00m\u001b[38;5;250m \u001b[39m\u001b[38;5;28;01mimport\u001b[39;00m load_dotenv\n\u001b[32m     19\u001b[39m \u001b[38;5;28;01mfrom\u001b[39;00m\u001b[38;5;250m \u001b[39m\u001b[34;01mloguru\u001b[39;00m\u001b[38;5;250m \u001b[39m\u001b[38;5;28;01mimport\u001b[39;00m logger\n\u001b[32m     21\u001b[39m \u001b[38;5;66;03m# ---------- Project root ------------------------------------------------\u001b[39;00m\n\u001b[32m     22\u001b[39m \u001b[38;5;66;03m# Find the project’s root folder (the repo top-level).\u001b[39;00m\n\u001b[32m     23\u001b[39m \u001b[38;5;66;03m# We resolve this file (__file__), go up two directories:\u001b[39;00m\n\u001b[32m     24\u001b[39m \u001b[38;5;66;03m#   emoji_sentiment_analysis/config.py -> emoji_sentiment_analysis/ -> <repo root>\u001b[39;00m\n",
      "\u001b[31mModuleNotFoundError\u001b[39m: No module named 'dotenv'"
     ]
    }
   ],
   "source": [
    "# block 1\n",
    "\n",
    "import pandas as pd\n",
    "import joblib\n",
    "import ipywidgets as widgets\n",
    "from IPython.display import display, clear_output\n",
    "import re\n",
    "from emoji_sentiment_analysis.config import MODELS_DIR\n",
    "\n",
    "# Regex to find emojis\n",
    "EMOJI_PATTERN = re.compile(\n",
    "    \"[\"\n",
    "    \"\\U0001F600-\\U0001F64F\"  # Emoticons\n",
    "    \"\\U0001F300-\\U0001F5FF\"  # Symbols & Pictographs\n",
    "    \"\\U0001F680-\\U0001F6FF\"  # Transport & Map Symbols\n",
    "    \"\\U0001F1E0-\\U0001F1FF\"  # Flags (iOS)\n",
    "    \"\\U00002702-\\U000027B0\"  # Dingbats\n",
    "    \"]+\",\n",
    "    flags=re.UNICODE\n",
    ")\n",
    "\n",
    "def extract_emojis(text):\n",
    "    return \" \".join(re.findall(EMOJI_PATTERN, text))\n",
    "\n",
    "# Load the trained model and vectorizer\n",
    "model = joblib.load(MODELS_DIR / \"sentiment_model.pkl\")\n",
    "vectorizer = joblib.load(MODELS_DIR / \"tfidf_vectorizer.pkl\")\n",
    "\n",
    "print(\"Sentiment analyzer loaded successfully! 🚀\")"
   ]
  },
  {
   "cell_type": "code",
   "execution_count": null,
   "id": "2f9f7b57",
   "metadata": {},
   "outputs": [],
   "source": [
    "# block 2\n",
    "\n",
    "# Create the text input and button widgets\n",
    "text_input = widgets.Textarea(\n",
    "    description='Enter a sentence:',\n",
    "    placeholder='I love sentiment analysis but it is too hard to study 😔'\n",
    ")\n",
    "sentiment_button = widgets.Button(\n",
    "    description='Say your Sentiments!',\n",
    "    button_style='success'\n",
    ")\n",
    "output_area = widgets.Output()\n",
    "\n",
    "# Display the widgets\n",
    "display(text_input, sentiment_button, \n",
    "output_area)"
   ]
  },
  {
   "cell_type": "code",
   "execution_count": null,
   "id": "83ea31c9",
   "metadata": {},
   "outputs": [],
   "source": [
    "# block 3\n",
    "\n",
    "def on_button_click(b):\n",
    "    with output_area:\n",
    "        clear_output()  # Clear previous output\n",
    "        user_input = text_input.value\n",
    "        \n",
    "        if not user_input:\n",
    "            print(\"Please enter a sentence to analyze.\")\n",
    "            return\n",
    "\n",
    "        print(\"==========================================================\")\n",
    "        print(f'Your input is: \"{user_input}\"')\n",
    "\n",
    "        # Preprocess the user input, including amplifying emojis\n",
    "        processed_input = user_input + ' ' + extract_emojis(user_input) * 5\n",
    "        \n",
    "        # Transform the text using the trained vectorizer\n",
    "        transformed_input = vectorizer.transform([processed_input])\n",
    "        \n",
    "        # Predict the sentiment\n",
    "        prediction = model.predict(transformed_input)[0]\n",
    "        \n",
    "        # Display the result\n",
    "        print(\"==========================================================\")\n",
    "        print(f'YOUR INPUT IS OF \"{prediction.upper()}\" SENTIMENT')\n",
    "        print(\"==========================================================\")\n",
    "\n",
    "# Link the button's on_click event to the analysis function\n",
    "sentiment_button.on_click(on_button_click)"
   ]
  }
 ],
 "metadata": {
  "kernelspec": {
   "display_name": ".conda",
   "language": "python",
   "name": "python3"
  },
  "language_info": {
   "codemirror_mode": {
    "name": "ipython",
    "version": 3
   },
   "file_extension": ".py",
   "mimetype": "text/x-python",
   "name": "python",
   "nbconvert_exporter": "python",
   "pygments_lexer": "ipython3",
   "version": "3.11.13"
  }
 },
 "nbformat": 4,
 "nbformat_minor": 5
}
